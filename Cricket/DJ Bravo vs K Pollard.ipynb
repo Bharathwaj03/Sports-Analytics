{
 "cells": [
  {
   "cell_type": "code",
   "execution_count": 1,
   "id": "db84e109",
   "metadata": {},
   "outputs": [],
   "source": [
    "import pandas as pd\n",
    "import numpy as np"
   ]
  },
  {
   "cell_type": "code",
   "execution_count": 2,
   "id": "be710863",
   "metadata": {},
   "outputs": [],
   "source": [
    "df = pd.read_csv(r'C:\\Users\\Bharathwaj\\Sports\\IPL_ball_by_ball_updated.csv')"
   ]
  },
  {
   "cell_type": "code",
   "execution_count": 3,
   "id": "e87a0e0d",
   "metadata": {},
   "outputs": [],
   "source": [
    "df_bravo = df[(df['bowler'] == \"DJ Bravo\")]"
   ]
  },
  {
   "cell_type": "code",
   "execution_count": 4,
   "id": "2e548651",
   "metadata": {},
   "outputs": [],
   "source": [
    "df_mali = df[df['bowler'].str.contains(\"Malinga\")]"
   ]
  },
  {
   "cell_type": "code",
   "execution_count": 5,
   "id": "2723caac",
   "metadata": {
    "scrolled": true
   },
   "outputs": [
    {
     "name": "stdout",
     "output_type": "stream",
     "text": [
      "<class 'pandas.core.frame.DataFrame'>\n",
      "Int64Index: 2974 entries, 13610 to 179056\n",
      "Data columns (total 22 columns):\n",
      " #   Column                  Non-Null Count  Dtype  \n",
      "---  ------                  --------------  -----  \n",
      " 0   match_id                2974 non-null   int64  \n",
      " 1   season                  2974 non-null   int64  \n",
      " 2   start_date              2974 non-null   object \n",
      " 3   venue                   2974 non-null   object \n",
      " 4   innings                 2974 non-null   int64  \n",
      " 5   ball                    2974 non-null   float64\n",
      " 6   batting_team            2974 non-null   object \n",
      " 7   bowling_team            2974 non-null   object \n",
      " 8   striker                 2974 non-null   object \n",
      " 9   non_striker             2974 non-null   object \n",
      " 10  bowler                  2974 non-null   object \n",
      " 11  runs_off_bat            2974 non-null   int64  \n",
      " 12  extras                  2974 non-null   int64  \n",
      " 13  wides                   129 non-null    float64\n",
      " 14  noballs                 18 non-null     float64\n",
      " 15  byes                    15 non-null     float64\n",
      " 16  legbyes                 58 non-null     float64\n",
      " 17  penalty                 1 non-null      float64\n",
      " 18  wicket_type             188 non-null    object \n",
      " 19  player_dismissed        188 non-null    object \n",
      " 20  other_wicket_type       0 non-null      float64\n",
      " 21  other_player_dismissed  0 non-null      float64\n",
      "dtypes: float64(8), int64(5), object(9)\n",
      "memory usage: 534.4+ KB\n"
     ]
    }
   ],
   "source": [
    "df_mali.info()"
   ]
  },
  {
   "cell_type": "code",
   "execution_count": 6,
   "id": "2e59c1c3",
   "metadata": {},
   "outputs": [
    {
     "name": "stdout",
     "output_type": "stream",
     "text": [
      "13610     SL Malinga\n",
      "13611     SL Malinga\n",
      "13612     SL Malinga\n",
      "13613     SL Malinga\n",
      "13614     SL Malinga\n",
      "             ...    \n",
      "179052    SL Malinga\n",
      "179053    SL Malinga\n",
      "179054    SL Malinga\n",
      "179055    SL Malinga\n",
      "179056    SL Malinga\n",
      "Name: bowler, Length: 2974, dtype: object\n"
     ]
    }
   ],
   "source": [
    "print(df_mali[\"bowler\"])"
   ]
  },
  {
   "cell_type": "code",
   "execution_count": 35,
   "id": "d899e4ee",
   "metadata": {},
   "outputs": [],
   "source": [
    "df_mali = df_mali.query('wicket_type != \"run out\"')"
   ]
  },
  {
   "cell_type": "code",
   "execution_count": 37,
   "id": "ad5334a6",
   "metadata": {},
   "outputs": [],
   "source": [
    "batsman_stats = df_mali.groupby('striker').agg({\n",
    "    'ball': 'count',               # Total number of balls faced\n",
    "    'runs_off_bat': 'sum',         # Total number of runs scored\n",
    "    'player_dismissed': 'count'    # Number of times dismissed\n",
    "}).reset_index()\n",
    "\n",
    "# Renaming columns for clarity\n",
    "batsman_stats.columns = ['batsman', 'balls_faced', 'runs_scored', 'times_dismissed']"
   ]
  },
  {
   "cell_type": "code",
   "execution_count": 38,
   "id": "cc844e24",
   "metadata": {},
   "outputs": [],
   "source": [
    "batsman_stats['strike_rate'] = (batsman_stats['runs_scored'] / batsman_stats['balls_faced']) * 100"
   ]
  },
  {
   "cell_type": "code",
   "execution_count": 39,
   "id": "9c048281",
   "metadata": {},
   "outputs": [],
   "source": [
    "batsman_stats.to_csv('malinga_b2b.csv' , sep=',', index = True, encoding='utf-8')"
   ]
  },
  {
   "cell_type": "code",
   "execution_count": 29,
   "id": "6f93351b",
   "metadata": {},
   "outputs": [
    {
     "ename": "UFuncTypeError",
     "evalue": "Cannot cast ufunc 'true_divide' output from dtype('float64') to dtype('int32') with casting rule 'same_kind'",
     "output_type": "error",
     "traceback": [
      "\u001b[1;31m---------------------------------------------------------------------------\u001b[0m",
      "\u001b[1;31mUFuncTypeError\u001b[0m                            Traceback (most recent call last)",
      "\u001b[1;32mC:\\Users\\BHARAT~1\\AppData\\Local\\Temp/ipykernel_6900/3292597831.py\u001b[0m in \u001b[0;36m<module>\u001b[1;34m\u001b[0m\n\u001b[0;32m      2\u001b[0m \u001b[0mdenominator\u001b[0m \u001b[1;33m=\u001b[0m \u001b[1;36m0\u001b[0m\u001b[1;33m\u001b[0m\u001b[1;33m\u001b[0m\u001b[0m\n\u001b[0;32m      3\u001b[0m \u001b[1;33m\u001b[0m\u001b[0m\n\u001b[1;32m----> 4\u001b[1;33m \u001b[0mresult\u001b[0m \u001b[1;33m=\u001b[0m \u001b[0mnp\u001b[0m\u001b[1;33m.\u001b[0m\u001b[0mdivide\u001b[0m\u001b[1;33m(\u001b[0m\u001b[0mnumerator\u001b[0m\u001b[1;33m,\u001b[0m \u001b[0mdenominator\u001b[0m\u001b[1;33m,\u001b[0m \u001b[0mout\u001b[0m\u001b[1;33m=\u001b[0m\u001b[0mnp\u001b[0m\u001b[1;33m.\u001b[0m\u001b[0mzeros_like\u001b[0m\u001b[1;33m(\u001b[0m\u001b[0mnumerator\u001b[0m\u001b[1;33m)\u001b[0m\u001b[1;33m,\u001b[0m \u001b[0mwhere\u001b[0m\u001b[1;33m=\u001b[0m\u001b[0mdenominator\u001b[0m \u001b[1;33m!=\u001b[0m \u001b[1;36m0\u001b[0m\u001b[1;33m)\u001b[0m\u001b[1;33m\u001b[0m\u001b[1;33m\u001b[0m\u001b[0m\n\u001b[0m",
      "\u001b[1;31mUFuncTypeError\u001b[0m: Cannot cast ufunc 'true_divide' output from dtype('float64') to dtype('int32') with casting rule 'same_kind'"
     ]
    }
   ],
   "source": [
    "numerator = 10\n",
    "denominator = 0\n",
    "\n",
    "result = np.divide(numerator, denominator, out=np.zeros_like(numerator), where=denominator != 0)"
   ]
  },
  {
   "cell_type": "code",
   "execution_count": null,
   "id": "d9ea98d3",
   "metadata": {},
   "outputs": [],
   "source": []
  },
  {
   "cell_type": "code",
   "execution_count": 3,
   "id": "0e952a01",
   "metadata": {},
   "outputs": [],
   "source": [
    "# Define the Pandas UDF\n",
    "def get_player_stats(df, batter, bowler):\n",
    "    filtered_df = df[(df['striker'] == batter) & (df['bowler'] == bowler)]\n",
    "    runs_scored = filtered_df['runs_off_bat'].sum()\n",
    "    balls_bowled = filtered_df.shape[0]\n",
    "    wickets_taken = filtered_df.loc[df['wicket_type'].notnull(), 'wicket_type'].count()\n",
    "    strike_rate = (runs_scored / balls_bowled) * 100\n",
    "    dot_balls =  filtered_df.loc[(df['runs_off_bat'] == 0), 'runs_off_bat'].count()\n",
    "    fours = filtered_df.loc[(df['runs_off_bat'] == 4), 'runs_off_bat'].count()\n",
    "    sixes = filtered_df.loc[(df['runs_off_bat'] == 6), 'runs_off_bat'].count()\n",
    "    average = (runs_scored/wickets_taken)\n",
    "    dot_percentage = (dot_balls/balls_bowled) * 100\n",
    "    boundary_percentage = ((fours + sixes)/balls_bowled) * 100\n",
    "    \n",
    "    stats = {\n",
    "        \"runs\": runs_scored,\n",
    "        \"balls\": balls_bowled,\n",
    "        \"wickets\": wickets_taken,\n",
    "        \"dots\": dot_balls,\n",
    "        \"strike_rate\": strike_rate,\n",
    "        \"4s\": fours,\n",
    "        \"6s\": sixes,\n",
    "        \"avg\": average,\n",
    "        \"dot%\": dot_percentage,\n",
    "        \"boundary%\": boundary_percentage}\n",
    "    return stats"
   ]
  },
  {
   "cell_type": "code",
   "execution_count": 42,
   "id": "90b723f3",
   "metadata": {},
   "outputs": [
    {
     "data": {
      "text/plain": [
       "{'runs': 89,\n",
       " 'balls': 64,\n",
       " 'wickets': 2,\n",
       " 'dots': 21,\n",
       " 'strike_rate': 139.0625,\n",
       " '4s': 5,\n",
       " '6s': 5,\n",
       " 'avg': 44.5,\n",
       " 'dot%': 32.8125,\n",
       " 'boundary%': 15.625}"
      ]
     },
     "execution_count": 42,
     "metadata": {},
     "output_type": "execute_result"
    }
   ],
   "source": [
    "batsman_name = \"MS Dhoni\"\n",
    "bowler_name = \"SL Malinga\"\n",
    "stats = get_player_stats(df, batsman_name, bowler_name)\n",
    "\n",
    "# Display the results\n",
    "stats"
   ]
  },
  {
   "cell_type": "code",
   "execution_count": null,
   "id": "d52fa33c-c2f7-44cf-89dd-d65eb57bdcbb",
   "metadata": {},
   "outputs": [],
   "source": [
    "# def get_player_stats(df, batter, bowler):"
   ]
  },
  {
   "cell_type": "code",
   "execution_count": 31,
   "id": "2ac8c1f1",
   "metadata": {},
   "outputs": [
    {
     "name": "stderr",
     "output_type": "stream",
     "text": [
      "C:\\Users\\BHARAT~1\\AppData\\Local\\Temp/ipykernel_6900/1722422345.py:11: RuntimeWarning: divide by zero encountered in longlong_scalars\n",
      "  average = (runs_scored/wickets_taken)\n"
     ]
    },
    {
     "data": {
      "text/plain": [
       "{'runs': 34,\n",
       " 'balls': 38,\n",
       " 'wickets': 0,\n",
       " 'dots': 15,\n",
       " 'strike_rate': 89.47368421052632,\n",
       " '4s': 3,\n",
       " '6s': 0,\n",
       " 'avg': inf,\n",
       " 'dot%': 39.473684210526315,\n",
       " 'boundary%': 7.894736842105263}"
      ]
     },
     "execution_count": 31,
     "metadata": {},
     "output_type": "execute_result"
    }
   ],
   "source": [
    "# Call the UDF with desired parameters\n",
    "batsman_name = \"V Kohli\"\n",
    "bowler_name = \"SL Malinga\"\n",
    "stats = get_player_stats(df, \"V Kojli\", bowler_name)\n",
    "# Display the results\n",
    "stats"
   ]
  },
  {
   "cell_type": "code",
   "execution_count": 43,
   "id": "3cca8adc",
   "metadata": {},
   "outputs": [
    {
     "data": {
      "text/plain": [
       "{'runs': 124,\n",
       " 'balls': 64,\n",
       " 'wickets': 1,\n",
       " 'dots': 18,\n",
       " 'strike_rate': 193.75,\n",
       " '4s': 10,\n",
       " '6s': 8,\n",
       " 'avg': 124.0,\n",
       " 'dot%': 28.125,\n",
       " 'boundary%': 28.125}"
      ]
     },
     "execution_count": 43,
     "metadata": {},
     "output_type": "execute_result"
    }
   ],
   "source": [
    "batsman_name = \"AB de Villiers\"\n",
    "bowler_name = \"SL Malinga\"\n",
    "stats = get_player_stats(df, batsman_name, bowler_name)\n",
    "# Display the results\n",
    "stats"
   ]
  },
  {
   "cell_type": "code",
   "execution_count": 34,
   "id": "a4919469",
   "metadata": {},
   "outputs": [
    {
     "data": {
      "text/plain": [
       "{'runs': 124,\n",
       " 'balls': 64,\n",
       " 'wickets': 1,\n",
       " 'dots': 18,\n",
       " 'strike_rate': 193.75,\n",
       " '4s': 10,\n",
       " '6s': 8,\n",
       " 'avg': 124.0,\n",
       " 'dot%': 28.125,\n",
       " 'boundary%': 28.125}"
      ]
     },
     "execution_count": 34,
     "metadata": {},
     "output_type": "execute_result"
    }
   ],
   "source": [
    "# Call the UDF with desired parameters\n",
    "batsman_name = \"AB de Villiers\"\n",
    "bowler_name = \"SL Malinga\"\n",
    "stats = get_player_stats(df, batsman_name, bowler_name)\n",
    "# Display the results\n",
    "stats"
   ]
  },
  {
   "cell_type": "code",
   "execution_count": 40,
   "id": "7f1a04c0",
   "metadata": {},
   "outputs": [
    {
     "name": "stderr",
     "output_type": "stream",
     "text": [
      "C:\\Users\\BHARAT~1\\AppData\\Local\\Temp/ipykernel_6900/1722422345.py:11: RuntimeWarning: divide by zero encountered in longlong_scalars\n",
      "  average = (runs_scored/wickets_taken)\n"
     ]
    },
    {
     "data": {
      "text/plain": [
       "{'runs': 2,\n",
       " 'balls': 9,\n",
       " 'wickets': 0,\n",
       " 'dots': 7,\n",
       " 'strike_rate': 22.22222222222222,\n",
       " '4s': 0,\n",
       " '6s': 0,\n",
       " 'avg': inf,\n",
       " 'dot%': 77.77777777777779,\n",
       " 'boundary%': 0.0}"
      ]
     },
     "execution_count": 40,
     "metadata": {},
     "output_type": "execute_result"
    }
   ],
   "source": [
    "# Call the UDF with desired parameters\n",
    "batsman_name = \"V Kohli\"\n",
    "bowler_name = \"JC Archer\"\n",
    "stats = get_player_stats(df, batsman_name, bowler_name)\n",
    "# Display the results\n",
    "stats"
   ]
  },
  {
   "cell_type": "code",
   "execution_count": 41,
   "id": "cd90985c",
   "metadata": {},
   "outputs": [
    {
     "data": {
      "text/plain": [
       "{'runs': 54,\n",
       " 'balls': 46,\n",
       " 'wickets': 2,\n",
       " 'dots': 15,\n",
       " 'strike_rate': 117.3913043478261,\n",
       " '4s': 3,\n",
       " '6s': 2,\n",
       " 'avg': 27.0,\n",
       " 'dot%': 32.608695652173914,\n",
       " 'boundary%': 10.869565217391305}"
      ]
     },
     "execution_count": 41,
     "metadata": {},
     "output_type": "execute_result"
    }
   ],
   "source": [
    "# Call the UDF with desired parameters\n",
    "batsman_name = \"V Kohli\"\n",
    "bowler_name = \"Rashid Khan\"\n",
    "stats = get_player_stats(df, batsman_name, bowler_name)\n",
    "# Display the results\n",
    "stats"
   ]
  },
  {
   "cell_type": "code",
   "execution_count": 45,
   "id": "bc4758c8",
   "metadata": {},
   "outputs": [
    {
     "data": {
      "text/plain": [
       "{'runs': 61,\n",
       " 'balls': 29,\n",
       " 'wickets': 2,\n",
       " 'dots': 11,\n",
       " 'strike_rate': 210.3448275862069,\n",
       " '4s': 6,\n",
       " '6s': 5,\n",
       " 'avg': 30.5,\n",
       " 'dot%': 37.93103448275862,\n",
       " 'boundary%': 37.93103448275862}"
      ]
     },
     "execution_count": 45,
     "metadata": {},
     "output_type": "execute_result"
    }
   ],
   "source": [
    "batsman_name = \"AB de Villiers\"\n",
    "bowler_name = \"A Nehra\"\n",
    "stats = get_player_stats(df, batsman_name, bowler_name)\n",
    "# Display the results\n",
    "stats"
   ]
  },
  {
   "cell_type": "code",
   "execution_count": 4,
   "id": "dd06f907",
   "metadata": {},
   "outputs": [
    {
     "data": {
      "text/plain": [
       "{'runs': 131,\n",
       " 'balls': 90,\n",
       " 'wickets': 3,\n",
       " 'dots': 36,\n",
       " 'strike_rate': 145.55555555555554,\n",
       " '4s': 10,\n",
       " '6s': 8,\n",
       " 'avg': 43.666666666666664,\n",
       " 'dot%': 40.0,\n",
       " 'boundary%': 20.0}"
      ]
     },
     "execution_count": 4,
     "metadata": {},
     "output_type": "execute_result"
    }
   ],
   "source": [
    "batsman_name = \"AB de Villiers\"\n",
    "bowler_name = \"JJ Bumrah\"\n",
    "stats = get_player_stats(df, batsman_name, bowler_name)\n",
    "# Display the results\n",
    "stats"
   ]
  },
  {
   "cell_type": "code",
   "execution_count": 5,
   "id": "031839e5",
   "metadata": {},
   "outputs": [
    {
     "data": {
      "text/plain": [
       "{'runs': 45,\n",
       " 'balls': 43,\n",
       " 'wickets': 3,\n",
       " 'dots': 14,\n",
       " 'strike_rate': 104.65116279069768,\n",
       " '4s': 4,\n",
       " '6s': 0,\n",
       " 'avg': 15.0,\n",
       " 'dot%': 32.55813953488372,\n",
       " 'boundary%': 9.30232558139535}"
      ]
     },
     "execution_count": 5,
     "metadata": {},
     "output_type": "execute_result"
    }
   ],
   "source": [
    "batsman_name = \"AB de Villiers\"\n",
    "bowler_name = \"Rashid Khan\"\n",
    "stats = get_player_stats(df, batsman_name, bowler_name)\n",
    "# Display the results\n",
    "stats"
   ]
  },
  {
   "cell_type": "code",
   "execution_count": null,
   "id": "1f23c74c-714a-496f-b7f0-9b15cf286368",
   "metadata": {},
   "outputs": [],
   "source": [
    "print()\n",
    "len()\n",
    "size()"
   ]
  },
  {
   "cell_type": "code",
   "execution_count": 10,
   "id": "544dfade-0647-45bc-a03c-fe646850b6c6",
   "metadata": {},
   "outputs": [],
   "source": [
    "def my_printer(number):\n",
    "    return number * number"
   ]
  },
  {
   "cell_type": "code",
   "execution_count": 12,
   "id": "f1efb2ec-cf8d-4242-997d-0cb7483001b4",
   "metadata": {},
   "outputs": [],
   "source": [
    "n = 3\n",
    "c = my_printer(n)"
   ]
  },
  {
   "cell_type": "code",
   "execution_count": 13,
   "id": "13482163-c97c-461d-aa86-7f85e520b88f",
   "metadata": {},
   "outputs": [
    {
     "data": {
      "text/plain": [
       "9"
      ]
     },
     "execution_count": 13,
     "metadata": {},
     "output_type": "execute_result"
    }
   ],
   "source": [
    "c"
   ]
  },
  {
   "cell_type": "code",
   "execution_count": 16,
   "id": "20c687d4-c6b9-4459-9e71-23f5c2d7bf39",
   "metadata": {},
   "outputs": [
    {
     "name": "stdout",
     "output_type": "stream",
     "text": [
      "3\n"
     ]
    }
   ],
   "source": [
    "print(n)"
   ]
  },
  {
   "cell_type": "code",
   "execution_count": null,
   "id": "3751f9ab-beb3-4455-9bcc-dc45d52d1f97",
   "metadata": {},
   "outputs": [],
   "source": []
  }
 ],
 "metadata": {
  "kernelspec": {
   "display_name": "Python 3 (ipykernel)",
   "language": "python",
   "name": "python3"
  },
  "language_info": {
   "codemirror_mode": {
    "name": "ipython",
    "version": 3
   },
   "file_extension": ".py",
   "mimetype": "text/x-python",
   "name": "python",
   "nbconvert_exporter": "python",
   "pygments_lexer": "ipython3",
   "version": "3.12.1"
  }
 },
 "nbformat": 4,
 "nbformat_minor": 5
}
