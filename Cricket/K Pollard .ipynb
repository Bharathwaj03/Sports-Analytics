{
 "cells": [
  {
   "cell_type": "code",
   "execution_count": 3,
   "id": "cd1773ad",
   "metadata": {},
   "outputs": [],
   "source": [
    "import pandas as pd\n",
    "import numpy as np"
   ]
  },
  {
   "cell_type": "code",
   "execution_count": 4,
   "id": "e05e0b6f",
   "metadata": {},
   "outputs": [],
   "source": [
    "df = pd.read_csv(r'C:\\Users\\Bharathwaj\\Sports\\IPL_ball_by_ball_updated.csv')"
   ]
  },
  {
   "cell_type": "code",
   "execution_count": 5,
   "id": "ee45dc4d",
   "metadata": {},
   "outputs": [
    {
     "name": "stdout",
     "output_type": "stream",
     "text": [
      "<class 'pandas.core.frame.DataFrame'>\n",
      "RangeIndex: 225953 entries, 0 to 225952\n",
      "Data columns (total 22 columns):\n",
      " #   Column                  Non-Null Count   Dtype  \n",
      "---  ------                  --------------   -----  \n",
      " 0   match_id                225953 non-null  int64  \n",
      " 1   season                  225953 non-null  int64  \n",
      " 2   start_date              225953 non-null  object \n",
      " 3   venue                   225953 non-null  object \n",
      " 4   innings                 225953 non-null  int64  \n",
      " 5   ball                    225953 non-null  float64\n",
      " 6   batting_team            225953 non-null  object \n",
      " 7   bowling_team            225953 non-null  object \n",
      " 8   striker                 225953 non-null  object \n",
      " 9   non_striker             225953 non-null  object \n",
      " 10  bowler                  225953 non-null  object \n",
      " 11  runs_off_bat            225953 non-null  int64  \n",
      " 12  extras                  225953 non-null  int64  \n",
      " 13  wides                   7026 non-null    float64\n",
      " 14  noballs                 918 non-null     float64\n",
      " 15  byes                    583 non-null     float64\n",
      " 16  legbyes                 3531 non-null    float64\n",
      " 17  penalty                 2 non-null       float64\n",
      " 18  wicket_type             11151 non-null   object \n",
      " 19  player_dismissed        11151 non-null   object \n",
      " 20  other_wicket_type       0 non-null       float64\n",
      " 21  other_player_dismissed  0 non-null       float64\n",
      "dtypes: float64(8), int64(5), object(9)\n",
      "memory usage: 37.9+ MB\n"
     ]
    }
   ],
   "source": [
    "df.info()"
   ]
  },
  {
   "cell_type": "code",
   "execution_count": 3,
   "id": "04724d2c",
   "metadata": {},
   "outputs": [],
   "source": [
    "kohli = df[(df['striker'] == \"RG Sharma\")]"
   ]
  },
  {
   "cell_type": "code",
   "execution_count": 5,
   "id": "05937873",
   "metadata": {
    "scrolled": true
   },
   "outputs": [],
   "source": [
    "#df_mali.info()"
   ]
  },
  {
   "cell_type": "code",
   "execution_count": 4,
   "id": "c2459133",
   "metadata": {},
   "outputs": [],
   "source": [
    "kohli = kohli.query('wicket_type != \"run out\"')"
   ]
  },
  {
   "cell_type": "code",
   "execution_count": 5,
   "id": "1a17ff87",
   "metadata": {},
   "outputs": [],
   "source": [
    "batsman_stats = kohli.groupby('bowler').agg({\n",
    "    'ball': 'count',               # Total number of balls faced\n",
    "    'runs_off_bat': 'sum',         # Total number of runs scored\n",
    "    'player_dismissed': 'count'    # Number of times dismissed\n",
    "}).reset_index()\n",
    "\n",
    "# Renaming columns for clarity\n",
    "batsman_stats.columns = ['bowler', 'balls_faced', 'runs_scored', 'times_dismissed']"
   ]
  },
  {
   "cell_type": "code",
   "execution_count": 6,
   "id": "899f8fdd",
   "metadata": {},
   "outputs": [],
   "source": [
    "batsman_stats['strike_rate'] = (batsman_stats['runs_scored'] / batsman_stats['balls_faced']) * 100"
   ]
  },
  {
   "cell_type": "code",
   "execution_count": 7,
   "id": "16280564",
   "metadata": {},
   "outputs": [],
   "source": [
    "batsman_stats.to_csv('rohit_b2b.csv' , sep=',', index = True, encoding='utf-8')"
   ]
  },
  {
   "cell_type": "code",
   "execution_count": null,
   "id": "40056970",
   "metadata": {},
   "outputs": [],
   "source": []
  },
  {
   "cell_type": "code",
   "execution_count": 10,
   "id": "f595a409",
   "metadata": {},
   "outputs": [],
   "source": [
    "# Define the Pandas UDF\n",
    "def get_player_stats(df, batsman, bowler):\n",
    "    filtered_df = df[(df['striker'] == batsman) & (df['bowler'] == bowler)]\n",
    "    runs_scored = filtered_df['runs_off_bat'].sum()\n",
    "    balls_bowled = filtered_df.shape[0]\n",
    "    wickets_taken = filtered_df.loc[df['wicket_type'].notnull(), 'wicket_type'].count()\n",
    "    strike_rate = (runs_scored / balls_bowled) * 100\n",
    "    dot_balls =  filtered_df.loc[(df['runs_off_bat'] == 0), 'runs_off_bat'].count()\n",
    "    fours = filtered_df.loc[(df['runs_off_bat'] == 4), 'runs_off_bat'].count()\n",
    "    sixes = filtered_df.loc[(df['runs_off_bat'] == 6), 'runs_off_bat'].count()\n",
    "    average = (runs_scored/wickets_taken)\n",
    "    dot_percentage = (dot_balls/balls_bowled) * 100\n",
    "    boundary_percentage = ((fours + sixes)/balls_bowled) * 100\n",
    "    \n",
    "    stats = {\n",
    "        \"runs\": runs_scored,\n",
    "        \"balls\": balls_bowled,\n",
    "        \"wickets\": wickets_taken,\n",
    "        \"dots\": dot_balls,\n",
    "        \"strike_rate\": strike_rate,\n",
    "        \"4s\": fours,\n",
    "        \"6s\": sixes,\n",
    "        \"avg\": average,\n",
    "        \"dot%\": dot_percentage,\n",
    "        \"boundary%\": boundary_percentage}\n",
    "    return stats"
   ]
  },
  {
   "cell_type": "code",
   "execution_count": 11,
   "id": "041dfa51",
   "metadata": {},
   "outputs": [
    {
     "data": {
      "text/plain": [
       "{'runs': 28,\n",
       " 'balls': 48,\n",
       " 'wickets': 2,\n",
       " 'dots': 29,\n",
       " 'strike_rate': 58.333333333333336,\n",
       " '4s': 1,\n",
       " '6s': 1,\n",
       " 'avg': 14.0,\n",
       " 'dot%': 60.416666666666664,\n",
       " 'boundary%': 4.166666666666666}"
      ]
     },
     "execution_count": 11,
     "metadata": {},
     "output_type": "execute_result"
    }
   ],
   "source": [
    "batsman = \"KA Pollard\"\n",
    "bowler = \"Rashid Khan\"\n",
    "head2head = get_player_stats(df, batsman, bowler)\n",
    "\n",
    "head2head"
   ]
  },
  {
   "cell_type": "code",
   "execution_count": 16,
   "id": "98464d08",
   "metadata": {},
   "outputs": [
    {
     "data": {
      "text/plain": [
       "{'runs': 54,\n",
       " 'balls': 24,\n",
       " 'wickets': 1,\n",
       " 'dots': 9,\n",
       " 'strike_rate': 225.0,\n",
       " '4s': 3,\n",
       " '6s': 6,\n",
       " 'avg': 54.0,\n",
       " 'dot%': 37.5,\n",
       " 'boundary%': 37.5}"
      ]
     },
     "execution_count": 16,
     "metadata": {},
     "output_type": "execute_result"
    }
   ],
   "source": [
    "batsman = \"KA Pollard\"\n",
    "bowler = \"SM Curran\"\n",
    "head2head = get_player_stats(df, batsman, bowler)\n",
    "\n",
    "head2head"
   ]
  },
  {
   "cell_type": "code",
   "execution_count": null,
   "id": "b200a8c9",
   "metadata": {},
   "outputs": [],
   "source": []
  },
  {
   "cell_type": "code",
   "execution_count": null,
   "id": "293e0fd3",
   "metadata": {},
   "outputs": [],
   "source": []
  },
  {
   "cell_type": "code",
   "execution_count": null,
   "id": "1ccae5f8",
   "metadata": {},
   "outputs": [],
   "source": []
  }
 ],
 "metadata": {
  "kernelspec": {
   "display_name": "Python 3 (ipykernel)",
   "language": "python",
   "name": "python3"
  },
  "language_info": {
   "codemirror_mode": {
    "name": "ipython",
    "version": 3
   },
   "file_extension": ".py",
   "mimetype": "text/x-python",
   "name": "python",
   "nbconvert_exporter": "python",
   "pygments_lexer": "ipython3",
   "version": "3.9.7"
  }
 },
 "nbformat": 4,
 "nbformat_minor": 5
}
